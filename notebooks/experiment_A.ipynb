{
 "cells": [
  {
   "cell_type": "code",
   "execution_count": 29,
   "metadata": {},
   "outputs": [],
   "source": [
    "import torch\n",
    "import numpy as np"
   ]
  },
  {
   "cell_type": "code",
   "execution_count": 44,
   "metadata": {},
   "outputs": [],
   "source": [
    "'''\n",
    "A UDF to convert input data into 3-D\n",
    "array as required for LSTM network.\n",
    "'''\n",
    "\n",
    "def temporalize(X, y, lookback):\n",
    "    output_X = []\n",
    "    output_y = []\n",
    "    for i in range(len(X)-lookback-1):\n",
    "        t = []\n",
    "        for j in range(1,lookback+1):\n",
    "            # Gather past records upto the lookback period\n",
    "            t.append(X[[(i+j+1)], :])\n",
    "        output_X.append(t)\n",
    "        output_y.append(y[i+lookback+1])\n",
    "    return output_X, output_y"
   ]
  },
  {
   "cell_type": "code",
   "execution_count": 49,
   "metadata": {},
   "outputs": [
    {
     "data": {
      "text/plain": [
       "array([[1.000e-03],\n",
       "       [8.000e-03],\n",
       "       [2.700e-02],\n",
       "       [6.400e-02],\n",
       "       [1.250e-01],\n",
       "       [2.160e-01],\n",
       "       [3.430e-01],\n",
       "       [5.120e-01],\n",
       "       [7.290e-01],\n",
       "       [1.000e+00],\n",
       "       [1.331e+00],\n",
       "       [1.728e+00],\n",
       "       [2.197e+00],\n",
       "       [2.744e+00],\n",
       "       [3.375e+00],\n",
       "       [4.096e+00],\n",
       "       [4.913e+00],\n",
       "       [5.832e+00],\n",
       "       [6.859e+00],\n",
       "       [8.000e+00]])"
      ]
     },
     "execution_count": 49,
     "metadata": {},
     "output_type": "execute_result"
    }
   ],
   "source": [
    "timeseries = np.array([\n",
    "    [0.1**3, 0.2**3, 0.3**3, 0.4**3, 0.5**3, 0.6**3, 0.7**3, 0.8**3, 0.9**3, 1.0**3, 1.1**3, 1.2**3, 1.3**3, 1.4**3, 1.5**3, 1.6**3, 1.7**3, 1.8**3, 1.9**3, 2.0**3],\n",
    "]).transpose()\n",
    "timesteps = timeseries.shape[0]\n",
    "n_features = timeseries.shape[1]\n",
    "timeseries"
   ]
  },
  {
   "cell_type": "code",
   "execution_count": 91,
   "metadata": {
    "scrolled": true
   },
   "outputs": [
    {
     "data": {
      "text/plain": [
       "torch.Size([16, 1, 3])"
      ]
     },
     "execution_count": 91,
     "metadata": {},
     "output_type": "execute_result"
    }
   ],
   "source": [
    "timesteps = 3\n",
    "X, y = temporalize(X = timeseries, y = np.zeros(len(timeseries)), lookback=timesteps)\n",
    "X = np.array(X)\n",
    "X = X.reshape(X.shape[0], n_features, timesteps)\n",
    "X = torch.Tensor(X)\n",
    "X.shape"
   ]
  },
  {
   "cell_type": "code",
   "execution_count": 113,
   "metadata": {},
   "outputs": [],
   "source": [
    "lstm = torch.nn.LSTM(3, 64, 2)\n",
    "relu = torch.nn.ReLU()"
   ]
  },
  {
   "cell_type": "code",
   "execution_count": 114,
   "metadata": {},
   "outputs": [],
   "source": [
    "h0 = torch.zeros(2, 1, 64)\n",
    "c0 = torch.zeros(2, 1, 64)"
   ]
  },
  {
   "cell_type": "code",
   "execution_count": 115,
   "metadata": {},
   "outputs": [
    {
     "name": "stdout",
     "output_type": "stream",
     "text": [
      "output shape:  torch.Size([16, 1, 64]) but we need (timesteps)x64 so lets copy the same value x(timesteps):\n"
     ]
    }
   ],
   "source": [
    "latent, (hn, cn) = lstm(X, (h0, c0))\n",
    "latent = relu(latent)\n",
    "print(\"output shape: \", latent.shape, \"but we need (timesteps)x64 so lets copy the same value x(timesteps):\")\n",
    "#latent = latent.repeat(1,3,1)\n",
    "#print(latent.shape)"
   ]
  },
  {
   "cell_type": "code",
   "execution_count": 116,
   "metadata": {},
   "outputs": [],
   "source": [
    "decoder = torch.nn.LSTM(64, 3, 2)\n",
    "# layer dim, features, hidden dims\n",
    "h0 = torch.zeros(2, 1, 3)\n",
    "c0 = torch.zeros(2, 1, 3)"
   ]
  },
  {
   "cell_type": "code",
   "execution_count": 118,
   "metadata": {
    "scrolled": true
   },
   "outputs": [
    {
     "name": "stdout",
     "output_type": "stream",
     "text": [
      "hidden layer values: \n",
      " tensor([[[0.0030, 0.0000, 0.0028]],\n",
      "\n",
      "        [[0.0058, 0.0000, 0.0000]],\n",
      "\n",
      "        [[0.0126, 0.0000, 0.0000]],\n",
      "\n",
      "        [[0.0209, 0.0000, 0.0000]],\n",
      "\n",
      "        [[0.0284, 0.0000, 0.0000]],\n",
      "\n",
      "        [[0.0343, 0.0000, 0.0000]],\n",
      "\n",
      "        [[0.0384, 0.0000, 0.0000]],\n",
      "\n",
      "        [[0.0411, 0.0000, 0.0000]],\n",
      "\n",
      "        [[0.0430, 0.0000, 0.0000]],\n",
      "\n",
      "        [[0.0445, 0.0000, 0.0000]],\n",
      "\n",
      "        [[0.0459, 0.0000, 0.0000]],\n",
      "\n",
      "        [[0.0476, 0.0000, 0.0000]],\n",
      "\n",
      "        [[0.0496, 0.0000, 0.0000]],\n",
      "\n",
      "        [[0.0518, 0.0000, 0.0000]],\n",
      "\n",
      "        [[0.0542, 0.0000, 0.0000]],\n",
      "\n",
      "        [[0.0569, 0.0000, 0.0000]]], grad_fn=<ReluBackward0>)  \n",
      " and shape:  torch.Size([16, 1, 3])\n"
     ]
    }
   ],
   "source": [
    "out, (hn, cn) = decoder(latent, (h0, c0))\n",
    "out = relu(out)\n",
    "print(\"hidden layer values: \\n\", out, \" \\n and shape: \", out.shape)"
   ]
  },
  {
   "cell_type": "code",
   "execution_count": 121,
   "metadata": {},
   "outputs": [],
   "source": [
    "# Full class:\n",
    "class AutoEncoder(torch.nn.Module):\n",
    "    def __init__(self, timesteps: int, hidden_dim: int, layer_dim: int):\n",
    "        super(AutoEncoder, self).__init__()\n",
    "        self.hidden_dim = hidden_dim\n",
    "        self.layer_dim = layer_dim\n",
    "        self.encoder = torch.nn.LSTM(timesteps, hidden_dim, layer_dim, batch_first=True)\n",
    "        self.decoder = torch.nn.LSTM(hidden_dim, timesteps, layer_dim)\n",
    "        self.relu = torch.nn.ReLU()\n",
    "\n",
    "    def forward(self, x):\n",
    "        # hidden state\n",
    "        h0 = torch.zeros(self.layer_dim, x.size(0), self.hidden_dim).requires_grad_()\n",
    "        # cell state\n",
    "        c0 = torch.zeros(self.layer_dim, x.size(0), self.hidden_dim).requires_grad_()\n",
    "        latent, (hn, cn) = self.encoder(x, (h0.detach(), c0.detach()))\n",
    "        latent = self.relu(latent)\n",
    "        # hidden state\n",
    "        h0 = torch.zeros(self.layer_dim, x.size(0), self.timesteps).requires_grad_()\n",
    "        # cell state\n",
    "        c0 = torch.zeros(self.layer_dim, x.size(0), self.timesteps).requires_grad_()\n",
    "        out, (hn, cn) = self.decoder(latent, (h0.detach(), c0.detach()))\n",
    "        return out"
   ]
  },
  {
   "cell_type": "code",
   "execution_count": 128,
   "metadata": {},
   "outputs": [
    {
     "data": {
      "text/plain": [
       "16"
      ]
     },
     "execution_count": 128,
     "metadata": {},
     "output_type": "execute_result"
    }
   ],
   "source": [
    "# train\n",
    "X.shape[0]"
   ]
  }
 ],
 "metadata": {
  "kernelspec": {
   "display_name": "env",
   "language": "python",
   "name": "env"
  },
  "language_info": {
   "codemirror_mode": {
    "name": "ipython",
    "version": 3
   },
   "file_extension": ".py",
   "mimetype": "text/x-python",
   "name": "python",
   "nbconvert_exporter": "python",
   "pygments_lexer": "ipython3",
   "version": "3.6.9"
  }
 },
 "nbformat": 4,
 "nbformat_minor": 2
}
